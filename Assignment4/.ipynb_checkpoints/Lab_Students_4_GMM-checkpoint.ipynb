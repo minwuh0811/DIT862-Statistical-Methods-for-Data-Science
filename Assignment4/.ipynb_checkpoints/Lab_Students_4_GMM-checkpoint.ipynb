{
 "cells": [
  {
   "cell_type": "markdown",
   "metadata": {
    "colab_type": "text",
    "id": "WzesnqLAQBo3"
   },
   "source": [
    "# Lab 4: GMMS, AIC and BIC\n",
    "\n",
    "The goal of this assignment is to investigate the application of AIC and BIC for identifying the correct number of clusters in a Gaussian Mixture Model (GMM). You are expected to use *mixture* from *sklearn* but you should implement the AIC and BIC scores yourself without the use of the AIC and BIC scores from *gmm*. "
   ]
  },
  {
   "cell_type": "code",
   "execution_count": 1,
   "metadata": {
    "colab": {},
    "colab_type": "code",
    "id": "gSRQxIvjR8rK"
   },
   "outputs": [],
   "source": [
    "import numpy as np\n",
    "import matplotlib.pyplot as plt\n",
    "from sklearn import mixture"
   ]
  },
  {
   "cell_type": "markdown",
   "metadata": {
    "colab_type": "text",
    "id": "LgOGayEW7i1l"
   },
   "source": [
    "# A. Instructions"
   ]
  },
  {
   "cell_type": "markdown",
   "metadata": {
    "colab_type": "text",
    "id": "RGsTvYkKQSwe"
   },
   "source": [
    "I. We first generate datasets of three clusters, i.e. a mixture of three Gaussians will be the true groundtruth. We require a separation parameter $s$ which will specify how far the three Gaussians (clusters) will be from each other. In addition, we require another parameter $ns$ that identifies the number of samples (data points) for each Gaussian. "
   ]
  },
  {
   "cell_type": "code",
   "execution_count": 2,
   "metadata": {
    "colab": {},
    "colab_type": "code",
    "id": "mqUo11olQofU"
   },
   "outputs": [],
   "source": [
    "ns = 100\n",
    "s = 10"
   ]
  },
  {
   "cell_type": "markdown",
   "metadata": {
    "colab_type": "text",
    "id": "pQ8WAjswQ3xf"
   },
   "source": [
    "II. We generate the three Gaussian clusters (i.e., the groundtruth) as following:"
   ]
  },
  {
   "cell_type": "code",
   "execution_count": 3,
   "metadata": {
    "colab": {
     "base_uri": "https://localhost:8080/",
     "height": 269
    },
    "colab_type": "code",
    "id": "-NeO8gz5RME6",
    "outputId": "3c74e082-dc1e-4cc6-b2d9-93582f6cd900"
   },
   "outputs": [
    {
     "data": {
      "image/png": "[encoded data removed]",
      "text/plain": [
       "<Figure size 432x288 with 1 Axes>"
      ]
     },
     "metadata": {
      "needs_background": "light"
     },
     "output_type": "display_data"
    }
   ],
   "source": [
    "# generate spherical data \n",
    "\n",
    "data1 = np.random.randn(ns, 2)\n",
    "data2 = np.random.randn(ns, 2) + np.array([s, 0])\n",
    "data3 = np.random.randn(ns, 2) + np.array([0, s])\n",
    "\n",
    "# concatenate \n",
    "data = np.vstack([data1,data2,data3])\n",
    "\n",
    "# You may plot the data to see how it looks like \n",
    "plt.scatter(data[:, 0], data[:, 1], .8)\n",
    "plt.show()\n"
   ]
  },
  {
   "cell_type": "markdown",
   "metadata": {
    "colab_type": "text",
    "id": "OFAujrN4SJHu"
   },
   "source": [
    "III. We can cluster the dataset using GMM from sklearn, where *K* specifies the number of clusters to be estimated from the data. *n_init* determines the number of repititions for optimizing the log-likelihood function."
   ]
  },
  {
   "cell_type": "code",
   "execution_count": 4,
   "metadata": {
    "colab": {
     "base_uri": "https://localhost:8080/",
     "height": 87
    },
    "colab_type": "code",
    "id": "_brbcrNsI2qx",
    "outputId": "72c9d2a9-77c2-4f43-e345-7b729dca3f67"
   },
   "outputs": [
    {
     "data": {
      "text/plain": [
       "GaussianMixture(covariance_type='full', init_params='kmeans', max_iter=100,\n",
       "                means_init=None, n_components=5, n_init=10,\n",
       "                precisions_init=None, random_state=None, reg_covar=1e-06,\n",
       "                tol=0.001, verbose=0, verbose_interval=10, warm_start=False,\n",
       "                weights_init=None)"
      ]
     },
     "execution_count": 4,
     "metadata": {},
     "output_type": "execute_result"
    }
   ],
   "source": [
    "K = 5\n",
    "gmm = mixture.GaussianMixture(n_components=K, n_init=10)\n",
    "gmm.fit(data)"
   ]
  },
  {
   "cell_type": "markdown",
   "metadata": {
    "colab_type": "text",
    "id": "i4R6wSxASbe4"
   },
   "source": [
    "IV. Note that you may modify the default input parameters of GaussianMixture() to obtain a better estimation. For example, n_init is in default set to 1, but you can set a larger number to obtain the best likelihood among several trials (e.g. n_init = 10). \n",
    "\n",
    "The total log-likelihood from *gmm* is obtained by: $N*gmm.score(data)$ where $N$ is the total number of objects (data points). Note that in this assignment, you should obtain AIC and BIC using the formulas described in the lecture. You may not use the computed AIC and BIC scores by the *gmm* class (the results might be different). \n",
    "\n",
    "\n",
    "\n"
   ]
  },
  {
   "cell_type": "markdown",
   "metadata": {
    "colab_type": "text",
    "id": "sNtWwNag7cFN"
   },
   "source": [
    "# B. Questions"
   ]
  },
  {
   "cell_type": "markdown",
   "metadata": {
    "colab_type": "text",
    "id": "jVDOKjQcTgp6"
   },
   "source": [
    "1. [2 Points] Describe a procedure for estimating the correct number of clusters via AIC and BIC. \n"
   ]
  },
  {
   "cell_type": "markdown",
   "metadata": {
    "colab_type": "text",
    "id": "VuaR_5o-Tika"
   },
   "source": [
    "2. [3 Points] Assume that we estimate the full covariance matrices for each of the Gaussians. \\\\\n",
    "a. Apply AIC and BIC to estimate the number of clusters when the groundtruth data is generated with *s = 10* and *ns = 10, 1000* (you perform the experiments twice, first with *ns = 10* and then with *ns = 1000* ). \\\\\n",
    "b. Report the results and discuss your observations.   \\\\\n"
   ]
  },
  {
   "cell_type": "markdown",
   "metadata": {
    "colab_type": "text",
    "id": "LS4HX6S9UKha"
   },
   "source": [
    "3. [2 Points] Set $s$ = 10 and $ns = 500$. Assume that you know the covariance matrices are diagonal but not necessarily the same. Then, how would you apply AIC and BIC? Show/plot the results."
   ]
  },
  {
   "cell_type": "markdown",
   "metadata": {
    "colab_type": "text",
    "id": "llnHdVmfVDYw"
   },
   "source": [
    "4. [3 Points] Apply BIC to analyze the number of clusters for a real-world dataset called *breast_cancer*. The information about the dataset can be found at: https://scikit-learn.org/stable/modules/generated/sklearn.datasets.load_breast_cancer.html#sklearn.datasets.load_breast_cancer \\\\\n",
    "a. Investigate BIC for finding the number of clusters where you assume i) you estimate all the covariance matrices separately, ii) you estimate all the full covariance matrices separately, but assume that they are diagonal. \\\\\n",
    "b. Plot the BIC and the negative log-likelihood results for each case. \\\\\n",
    "c. Which assumption would you choose at the end? Discuss your answer. \n",
    "\n"
   ]
  },
  {
   "cell_type": "code",
   "execution_count": 5,
   "metadata": {
    "colab": {},
    "colab_type": "code",
    "id": "5t8kmr1TESoq"
   },
   "outputs": [],
   "source": [
    "from sklearn.datasets import load_breast_cancer\n",
    "data = load_breast_cancer().data"
   ]
  }
 ],
 "metadata": {
  "colab": {
   "collapsed_sections": [],
   "name": "Students version Lab 4 GMM.ipynb",
   "provenance": []
  },
  "kernelspec": {
   "display_name": "Python 3",
   "language": "python",
   "name": "python3"
  },
  "language_info": {
   "codemirror_mode": {
    "name": "ipython",
    "version": 3
   },
   "file_extension": ".py",
   "mimetype": "text/x-python",
   "name": "python",
   "nbconvert_exporter": "python",
   "pygments_lexer": "ipython3",
   "version": "3.7.3"
  }
 },
 "nbformat": 4,
 "nbformat_minor": 1
}
