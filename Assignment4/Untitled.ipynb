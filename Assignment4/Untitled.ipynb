{
 "cells": [
  {
   "cell_type": "code",
   "execution_count": null,
   "metadata": {},
   "outputs": [],
   "source": [
    "import numpy as np\n",
    "import matplotlib.pyplot as plt\n",
    "from sklearn import mixture\n",
    "ns = 100\n",
    "s = 10\n",
    "# generate spherical data \n",
    "\n",
    "data1 = np.random.randn(ns, 2)\n",
    "data2 = np.random.randn(ns, 2) + np.array([s, 0])\n",
    "data3 = np.random.randn(ns, 2) + np.array([0, s])\n",
    "\n",
    "# concatenate \n",
    "data = np.vstack([data1,data2,data3])\n",
    "\n",
    "# You may plot the data to see how it looks like \n",
    "plt.scatter(data[:, 0], data[:, 1], .8)\n",
    "plt.show()\n"
   ]
  }
 ],
 "metadata": {
  "kernelspec": {
   "display_name": "Python 3",
   "language": "python",
   "name": "python3"
  },
  "language_info": {
   "codemirror_mode": {
    "name": "ipython",
    "version": 3
   },
   "file_extension": ".py",
   "mimetype": "text/x-python",
   "name": "python",
   "nbconvert_exporter": "python",
   "pygments_lexer": "ipython3",
   "version": "3.7.3"
  }
 },
 "nbformat": 4,
 "nbformat_minor": 2
}
