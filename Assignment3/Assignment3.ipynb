{
 "cells": [
  {
   "cell_type": "markdown",
   "metadata": {},
   "source": [
    "# 1. Plot the data and argue if a linear model is a good choice given the data. "
   ]
  },
  {
   "cell_type": "code",
   "execution_count": 10,
   "metadata": {},
   "outputs": [
    {
     "data": {
      "text/plain": [
       "<matplotlib.collections.PathCollection at 0x2ba59a72b38>"
      ]
     },
     "execution_count": 10,
     "metadata": {},
     "output_type": "execute_result"
    },
    {
     "data": {
      "image/png": "[encoded data removed]",
      "text/plain": [
       "<Figure size 1368x1440 with 1 Axes>"
      ]
     },
     "metadata": {
      "needs_background": "light"
     },
     "output_type": "display_data"
    }
   ],
   "source": [
    "import pandas as pd\n",
    "import numpy as np\n",
    "import matplotlib.pyplot as plt\n",
    "\n",
    "N = 15\n",
    "t = np.reshape(np.array([132.1,133.0,134.0,138.8,145.5,147.0,147.1,149.0,150.0,149.0,152.4,152.6, 153.4, 155.8, 156.0]), (N,1))\n",
    "X = np.array([[1,26.0],[1,26.5],[1,28.1],[1,28.9],[1,30.1],[1,31.7],[1,32.0],[1,33.1],[1,33.2],[1,33.0],[1,34.1],[1,34.5],[1,35.2],[1,36.0],[1,36.7]], np.float)\n",
    "fig=plt.figure(figsize=(19,20))\n",
    "ax1=fig.add_subplot(2,2,1)\n",
    "ax1.set_xlabel('x', fontsize=18)\n",
    "ax1.set_ylabel('t', fontsize=18)\n",
    "ax1.scatter(np.transpose(X)[1],t)\n",
    "\n",
    "\n"
   ]
  },
  {
   "cell_type": "raw",
   "metadata": {},
   "source": [
    "After plotting the data, it shows that as x increases, y seems proportionally increased. So that I think the linear model is a good model to use."
   ]
  },
  {
   "cell_type": "markdown",
   "metadata": {},
   "source": [
    "# 2. Obtain a probabilistic regression model based on a likelihood function to describe this dataset. Compute the model parameters."
   ]
  },
  {
   "cell_type": "raw",
   "metadata": {},
   "source": [
    "# \"\"\"\n",
    "My Assumption \n",
    "\n",
    "The relationship is linear, choose a linear model f(x)=w0+w1x\n",
    "\n",
    "fit the linear model\n",
    "\n",
    "Evaluate the model by mean squared error and Coefficient of determination\n",
    "\n",
    "The results are good as I expected the coefficient of determination is 0.97 which means the model can determine 97% of the data\n",
    "\n",
    "\n",
    "\"\"\""
   ]
  },
  {
   "cell_type": "code",
   "execution_count": 13,
   "metadata": {},
   "outputs": [
    {
     "name": "stdout",
     "output_type": "stream",
     "text": [
      "Coefficients: w0: 70.07, w1: 2.39\n",
      "Mean squared error: 1.97\n",
      "Coefficient of determination: 0.97\n"
     ]
    },
    {
     "data": {
      "text/plain": [
       "[<matplotlib.lines.Line2D at 0x2ba59d9abe0>]"
      ]
     },
     "execution_count": 13,
     "metadata": {},
     "output_type": "execute_result"
    },
    {
     "data": {
      "image/png": "[encoded data removed]",
      "text/plain": [
       "<Figure size 1368x1440 with 1 Axes>"
      ]
     },
     "metadata": {
      "needs_background": "light"
     },
     "output_type": "display_data"
    }
   ],
   "source": [
    "def LinearRegression(X,t,max_iter=1000): \n",
    "    N=15\n",
    "    totXt=0\n",
    "    totX2=0\n",
    "    Xmean=np.mean(X,axis=0)[1]\n",
    "    tmean=np.mean(t,axis=0)[0]\n",
    "    t_pred=[]\n",
    "    for n in range(N):\n",
    "        xn=X[n][1]\n",
    "        tn=t[n][0]\n",
    "        totX2+=xn*xn\n",
    "        totXt+=xn*tn\n",
    "    x2mean=totX2/15    \n",
    "    Xtmean=totXt/15\n",
    "    w1=(Xtmean-Xmean*tmean)/(x2mean-Xmean*Xmean)\n",
    "    w0=tmean-w1*Xmean\n",
    "    for n in range(N):\n",
    "        t_pred.append(w0+w1*X[n][1])\n",
    "    return w0,w1,t_pred\n",
    "\n",
    "def CoefficientDetermAndMeanSquaredLoss(X, t, w0, w1):\n",
    "    resSquared=0\n",
    "    totSquared=0\n",
    "    tmean=np.mean(t,axis=0)[0]\n",
    "    for n in range(15):\n",
    "        resSquared+=(t[n][0]-(w0+w1*X[n][1]))**2\n",
    "        totSquared+=(t[n][0]-tmean)**2   \n",
    "    return 1-resSquared/totSquared, resSquared/15   \n",
    "w0,w1,t_pred=LinearRegression(X,t)\n",
    "Coeff, meansq=CoefficientDetermAndMeanSquaredLoss(X,t,w0,w1)\n",
    "print('Coefficients: w0: %0.2f, w1: %0.2f' %(w0,w1)) \n",
    "print('Mean squared error: %.2f' %(meansq))\n",
    "print('Coefficient of determination: %.2f' %(Coeff))\n",
    "fig=plt.figure(figsize=(19,20))\n",
    "ax2=fig.add_subplot(2,2,1)\n",
    "ax2.scatter(np.transpose(X)[1], t,  color='black')\n",
    "ax2.plot(np.transpose(X)[1], t_pred, color='blue', linewidth=3)"
   ]
  },
  {
   "cell_type": "markdown",
   "metadata": {},
   "source": [
    "By calculating the mean squared error the variance of the distribution is obtained 1.97 as a parameter for the probabilistic regression model"
   ]
  },
  {
   "cell_type": "markdown",
   "metadata": {},
   "source": [
    "# 3. Use the model to estimate the price of a studio of size 32.5. How certain are you about the estimation (i.e., what is the variance of the estimation)?"
   ]
  },
  {
   "cell_type": "code",
   "execution_count": 19,
   "metadata": {},
   "outputs": [
    {
     "name": "stdout",
     "output_type": "stream",
     "text": [
      "The price of a studio of size 32.5 is 147.72 \n",
      "The variance of the estimation is 0.14 \n"
     ]
    }
   ],
   "source": [
    "xnew=[[1],[32.5]]\n",
    "w=[[w0],[w1]]\n",
    "tnew=np.dot(np.transpose(xnew),w)\n",
    "print('The price of a studio of size 32.5 is %0.2f ' %(tnew[0][0]))\n",
    "b=np.linalg.inv(np.dot(np.transpose(X),X))\n",
    "a=meansq*np.dot(np.transpose(xnew),b)\n",
    "c=np.dot(a,xnew)\n",
    "print('The variance of the estimation is %0.2f ' %(c[0][0]))"
   ]
  },
  {
   "cell_type": "markdown",
   "metadata": {},
   "source": [
    "# 4.Use the model to estimate the price of a studio of size 60, and the respective uncertainty (variance). What do you observe?"
   ]
  },
  {
   "cell_type": "code",
   "execution_count": 17,
   "metadata": {},
   "outputs": [
    {
     "name": "stdout",
     "output_type": "stream",
     "text": [
      "The price of a studio of size 60.0 is 213.42 \n"
     ]
    }
   ],
   "source": [
    "xnew=[[1],[60.0]]\n",
    "w=[[w0],[w1]]\n",
    "tnew=np.dot(np.transpose(xnew),w)\n",
    "print('The price of a studio of size 60.0 is %0.2f ' %(tnew[0][0]))\n",
    "b=np.linalg.inv(np.dot(np.transpose(X),X))\n",
    "a=meansq*np.dot(np.transpose(xnew),b)\n",
    "c=np.dot(a,xnew)\n",
    "print('The variance of the estimation is %0.2f ' %(c[0][0]))"
   ]
  },
  {
   "cell_type": "raw",
   "metadata": {},
   "source": [
    "The size 60 is not in the range of dataset which cause large uncertainty (variance)."
   ]
  },
  {
   "cell_type": "markdown",
   "metadata": {},
   "source": [
    "# 5.Use the model to estimate the price of a studio of size 10 and the respective uncertainty (variance). What do you observe?"
   ]
  },
  {
   "cell_type": "code",
   "execution_count": 21,
   "metadata": {},
   "outputs": [
    {
     "name": "stdout",
     "output_type": "stream",
     "text": [
      "The price of a studio of size 10.0 is 93.96 \n",
      "The variance of the estimation is 6.16 \n"
     ]
    }
   ],
   "source": [
    "xnew=[[1],[10.0]]\n",
    "w=[[w0],[w1]]\n",
    "tnew=np.dot(np.transpose(xnew),w)\n",
    "print('The price of a studio of size 10.0 is %0.2f ' %(tnew[0][0]))\n",
    "b=np.linalg.inv(np.dot(np.transpose(X),X))\n",
    "a=meansq*np.dot(np.transpose(xnew),b)\n",
    "c=np.dot(a,xnew)\n",
    "print('The variance of the estimation is %0.2f ' %(c[0][0]))"
   ]
  },
  {
   "cell_type": "raw",
   "metadata": {},
   "source": [
    "The size 10 is not in the range of dataset which cause large uncertainty (variance)."
   ]
  }
 ],
 "metadata": {
  "kernelspec": {
   "display_name": "Python 3",
   "language": "python",
   "name": "python3"
  },
  "language_info": {
   "codemirror_mode": {
    "name": "ipython",
    "version": 3
   },
   "file_extension": ".py",
   "mimetype": "text/x-python",
   "name": "python",
   "nbconvert_exporter": "python",
   "pygments_lexer": "ipython3",
   "version": "3.7.3"
  }
 },
 "nbformat": 4,
 "nbformat_minor": 2
}
