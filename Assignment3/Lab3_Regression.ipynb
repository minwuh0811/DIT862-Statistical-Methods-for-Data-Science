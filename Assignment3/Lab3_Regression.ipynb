{
 "cells": [
  {
   "cell_type": "markdown",
   "metadata": {
    "colab_type": "text",
    "id": "UEKPlU7hXdjm"
   },
   "source": [
    "#Lab 3: Regression"
   ]
  },
  {
   "cell_type": "markdown",
   "metadata": {
    "colab_type": "text",
    "id": "DJFfanwYXgey"
   },
   "source": [
    "In this assignment you will implement and use the probabilistic linear regression model in python. You are expected to implement this yourself without use of other libraries other than the ones imported below. You can collaborate online by uploading the notebook to https://colab.research.google.com/. Consider the following dataset that shows the **price** *t* of 15 different studios in the city according to their **size** *X*. "
   ]
  },
  {
   "cell_type": "code",
   "execution_count": 0,
   "metadata": {
    "colab": {},
    "colab_type": "code",
    "id": "V6W0nbXiqtBf"
   },
   "outputs": [],
   "source": [
    "import numpy as np\n",
    "import matplotlib.pyplot as plt\n",
    "from scipy.stats import norm\n",
    "\n",
    "N = 15\n",
    "\n",
    "t = np.reshape(np.array([132.1,133.0,134.0,138.8,145.5,147.0,147.1,149.0,150.0,149.0,152.4,152.6, 153.4, 155.8, 156.0]), (N,1))\n",
    "X = np.array([[1,26.0],[1,26.5],[1,28.1],[1,28.9],[1,30.1],[1,31.7],[1,32.0],[1,33.1],[1,33.2],[1,33.0],[1,34.1],[1,34.5],[1,35.2],[1,36.0],[1,36.7]], np.float)"
   ]
  },
  {
   "cell_type": "markdown",
   "metadata": {
    "colab_type": "text",
    "id": "wFcO3Pndsc8A"
   },
   "source": [
    "1. [2 Points] Plot the data and argue if a linear model is a good choice given the data. "
   ]
  },
  {
   "cell_type": "markdown",
   "metadata": {
    "colab_type": "text",
    "id": "90huypjCsovi"
   },
   "source": [
    "2. [2 Points] Obtain a probabilistic regression model based on a likelihood function to describe this dataset. Compute the model parameters."
   ]
  },
  {
   "cell_type": "markdown",
   "metadata": {
    "colab_type": "text",
    "id": "fdf-MVlfsZad"
   },
   "source": [
    "3. [2 Points] Use the model to estimate the price of a studio of size $32.5$. How certain are you about the estimation (i.e., what is the variance of the estimation)?"
   ]
  },
  {
   "cell_type": "markdown",
   "metadata": {
    "colab_type": "text",
    "id": "hm0H19J_tBEv"
   },
   "source": [
    "4. [2 Points] Use the model to estimate the price of a studio of size $60$, and the respective uncertainty (variance). What do you observe?"
   ]
  },
  {
   "cell_type": "markdown",
   "metadata": {
    "colab_type": "text",
    "id": "ucYnj47ctUB9"
   },
   "source": [
    "5. [2 Points] Use the model to estimate the price of a studio of size $10$, and the respective uncertainty (variance). What do you observe?"
   ]
  }
 ],
 "metadata": {
  "colab": {
   "collapsed_sections": [],
   "name": "Lab3_Regression.ipynb",
   "provenance": []
  },
  "kernelspec": {
   "display_name": "Python 3",
   "language": "python",
   "name": "python3"
  },
  "language_info": {
   "codemirror_mode": {
    "name": "ipython",
    "version": 3
   },
   "file_extension": ".py",
   "mimetype": "text/x-python",
   "name": "python",
   "nbconvert_exporter": "python",
   "pygments_lexer": "ipython3",
   "version": "3.7.3"
  }
 },
 "nbformat": 4,
 "nbformat_minor": 1
}
